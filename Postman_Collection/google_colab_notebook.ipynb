{
  "cells": [
    {
      "cell_type": "markdown",
      "metadata": {
        "id": "fm0AdQIDC2BO"
      },
      "source": [
        "# Github API Extraction with Python on Google Colab"
      ]
    },
    {
      "cell_type": "markdown",
      "metadata": {
        "id": "NMaK9KunC8on"
      },
      "source": [
        "## Importing Libraries"
      ]
    },
    {
      "cell_type": "code",
      "execution_count": 20,
      "metadata": {
        "id": "yTgXqmrnCsqj"
      },
      "outputs": [],
      "source": [
        "import requests\n",
        "import time\n",
        "import os\n",
        "from getpass import getpass\n",
        "import pandas as pd\n",
        "# from dotenv import load_dotenv\n",
        "# from google.colab import files"
      ]
    },
    {
      "cell_type": "markdown",
      "metadata": {
        "id": "vqgfqcphDIzd"
      },
      "source": [
        "## Configuring Connection"
      ]
    },
    {
      "cell_type": "code",
      "execution_count": 31,
      "metadata": {
        "colab": {
          "base_uri": "https://localhost:8080/"
        },
        "id": "9SgbI2qeDINe",
        "outputId": "03cb2bc7-7fd2-422f-d2cf-2719e0ba2b6a"
      },
      "outputs": [
        {
          "name": "stdout",
          "output_type": "stream",
          "text": [
            "Insert your GitHub token: ··········\n"
          ]
        }
      ],
      "source": [
        "# Getting personal token\n",
        "TOKEN = getpass(\"Insert your GitHub token: \")\n",
        "os.environ['GITHUB_TOKEN'] = TOKEN\n",
        "GITHUB_API_URL = \"https://api.github.com\"\n",
        "HEADERS = {\n",
        "    \"Authorization\": f\"Bearer {os.environ['GITHUB_TOKEN']}\",\n",
        "    \"Accept\": \"application/vnd.github+json\",\n",
        "    \"X-GitHub-Api-Version\": \"2022-11-28\"\n",
        "}"
      ]
    },
    {
      "cell_type": "code",
      "execution_count": 23,
      "metadata": {
        "colab": {
          "base_uri": "https://localhost:8080/",
          "height": 106
        },
        "id": "k33YzpLWPfeo",
        "outputId": "699ae081-dbd9-4d7f-8ec4-029ba8973418"
      },
      "outputs": [
        {
          "ename": "SyntaxError",
          "evalue": "invalid syntax (ipython-input-23-703246657.py, line 1)",
          "output_type": "error",
          "traceback": [
            "\u001b[0;36m  File \u001b[0;32m\"/tmp/ipython-input-23-703246657.py\"\u001b[0;36m, line \u001b[0;32m1\u001b[0m\n\u001b[0;31m    |# # I chose not to use .env as I didn't find it necessary. However, you can feel free to modify it as you must\u001b[0m\n\u001b[0m    ^\u001b[0m\n\u001b[0;31mSyntaxError\u001b[0m\u001b[0;31m:\u001b[0m invalid syntax\n"
          ]
        }
      ],
      "source": [
        "|# # I chose not to use .env as I didn't find it necessary. However, you can feel free to modify it as you must\n",
        "\n",
        "# !pip install python-dotenv\n",
        "\n",
        "# uploaded = files.upload()\n",
        "# load_dotenv()\n",
        "\n",
        "# TOKEN = os.getenv('GITHUB_TOKEN')\n",
        "# USER = os.getenv('USER')"
      ]
    },
    {
      "cell_type": "markdown",
      "metadata": {
        "id": "XG3_q9DJD01J"
      },
      "source": [
        "## Handling API Rate Limits"
      ]
    },
    {
      "cell_type": "code",
      "execution_count": 32,
      "metadata": {
        "id": "nRPOfRRuD0Bt"
      },
      "outputs": [],
      "source": [
        "# If the rate limit exceds API limit, code wait until API allow new rates\n",
        "def handle_rate_limit(response):\n",
        "  if response.status_code == 403 and 'X-RateLimit-Remaining' in response.headers:\n",
        "      if int(response.headers['X-RateLimit-Remaining']) == 0:\n",
        "          reset_time = int(response.headers['X-RateLimit-Reset'])\n",
        "          wait_time = reset_time - int(time.time()) + 1\n",
        "          print(f\"Rate limit reached. Waiting {wait_time} seconds...\")\n",
        "          time.sleep(wait_time)"
      ]
    },
    {
      "cell_type": "markdown",
      "metadata": {
        "id": "Tbdb5H2aFvLm"
      },
      "source": [
        "## Handling Pages"
      ]
    },
    {
      "cell_type": "code",
      "execution_count": 33,
      "metadata": {
        "id": "_rsJuSMmGEL4"
      },
      "outputs": [],
      "source": [
        "# Create a list of results from pages\n",
        "def get_paginated_results(url, params={}):\n",
        "  results = []\n",
        "  while url:\n",
        "      response = requests.get(url, headers=HEADERS, params=params)\n",
        "      handle_rate_limit(response)\n",
        "      if response.status_code == 200:\n",
        "        data = response.json()\n",
        "        results.extend(data if isinstance(data, list) else [data])\n",
        "        # Next page detection\n",
        "        if 'next' in response.links:\n",
        "          url = response.links['next']['url']\n",
        "          params = {}\n",
        "        else:\n",
        "          break\n",
        "      # Handling error\n",
        "      else:\n",
        "        print(f\"Error: {response.status_code}, Message: {response.text}\")\n",
        "        break\n",
        "  return results"
      ]
    },
    {
      "cell_type": "markdown",
      "metadata": {
        "id": "jfhDKdDnHzMz"
      },
      "source": [
        "## List Repositories (By User)"
      ]
    },
    {
      "cell_type": "code",
      "execution_count": 34,
      "metadata": {
        "colab": {
          "base_uri": "https://localhost:8080/"
        },
        "id": "2PoSjZirH-W2",
        "outputId": "c9842327-0dd9-45f3-db16-cac40e2b60df"
      },
      "outputs": [
        {
          "name": "stdout",
          "output_type": "stream",
          "text": [
            "Enter the GitHub username (identical to GitHub): alura-cursos\n",
            "Repos: ['-IA-Aumentada-Prevendo-atrasos-de-voos.', '-robotron-2000', '01-fullstack-nextjs', '01-nextjs-course', '02-nextjs-course', '04-nextjs-course', '06-github-actions-front-end', '07-storybook-com-react', '1236-springapi', '13-clojure-tests', '14-EN-clojure-schemas', '1426-pep8-linters-python', '1474-delphi', '15-EN-clojure-generators-tests-properties', '1501-angular-unit-tests', '1526-FetchAPI', '1527-cluster_r', '1530-springmvc-parte1', '1540-laravel-parte3', '1563-treinando-pytorch', '1576-mlops-machine-learning', '1598-jpa', '16-EN-flutter-first-app', '1616vpns', '1622-web-scraping-php', '1659-postgresql-primeiros-passos', '1660-openshift', '1699-data-science-previsao-arima', '1734-cnnpytorch', '1736-java-primeros-pasos', '1743-jpa-pesquisas', '1750-jakartaee', '1755-aula1-novidades-java', '1755-aula3-novidades-java-api', '1755-aula3-novidades-java-http2', '1755-aula4-novidades-java-reactive-streams', '1755-aula5-novidades-java-elivraria', '1755-aula5-novidades-java-elivraria-modular', '1758-excel-criacao-de-macros-automacao-de-tarefas', '1766-logica-programacao-python', '1795-curso-spring-data', '1817-react-classes', '1820-appium', '1821-bdd-cucumber-java', '1823_DOM', '1838-administracion-de-mysql-parte-1', '1841-react-observable', '1843-spring-parte3-testes-deploy', '1846-kubernetes', '1852-docker-compose', '1852-docker-express-app', '1852-docker-volumen', '1861-accesibilidad-web-parte1', '1862-sequelize', '1865-Excel-Automatizando-tareas-con-VBA', '1870-spring-mvc-parte2', '1883-accesibilidad-web-parte_2', '1885-Angular-RxJS-Programacion-Reactiva', '1888-alura-nestjs2', '1897-react-functions', '1898-react-multpartForm', '1903-machine-learning-con-oracle-ads-productividad-en-la-creacion-de-modelos', '1920-spring-mvc-1', '1922-graphql', '1925-React-Router', '1934-nodeapi2', '1941-poliglota-javascript', '1944-php-parallel', '1952-angular', '1956-php-reflection', '1957-object-calisthenics', '1959-php-funcional', '1960-php-reativo', '1963-java-clean-architecture', '1963-Spring-MVC-2', '1964-java-domain-driven-design', '1965-a11y', '1976-react-testes', '1980-a11y-parte2', '1982-graphql', '1985-python-collections-listas-y-tuplas', '1994-nodeauth3', '2000-JS-Objetos', '2002-c-plus-plus', '2006-python-comenzando-con-el-lenguaje', '2016-JS-na-web-crud-com-JavaScript-assincrono', '2019-selenium-java', '2023-Java-creando-tu-primera-aplicacion', '2024-java3-desafio', '2032-java-aplicando-la-orientacion-a-objetos', '2036-graphql-prisma2', '2041-nodedeploy', '2047-c-plus-plus-oo1', '2050-c-plus-plus-testes', '2051-solid-java', '2056-design-patterns-java-1', '2057-design-patterns-java-2', '2061-testes-integracao-java', '2066-java-testes-mock', '2067-maven-gerenciamento-dependencias-build-aplicacoes-java', '2073-jenkins', '2078-Java-y-refactorizacion-1', '2096-ChatGPT-y-programacion-aumenta-tu-productividad', '2104-mlflow', '2108-java-testes-unitarios-tdd', '2121-jpa-hibernate-persistencia', '2122-jpa-modelos-complexos-buscas', '2129-laravel', '2129-python-y-power-bi-analizando-datos-del-mercado-financiero', '2130-laravel', '2131-laravel', '2143-php-collections', '2147-agile-parte1', '2148-agile-parte2', '2206-fundamentos-js', '2208-kotlin-spring', '2210-kotlin-spring', '2212-js-fundamentos-arrays', '2217-kotlin-spring', '2226-php-swoole', '2259-js-objetos', '2299-lib-nodejs-markdown', '2310-elixir', '2315-Alura-Ponto', '2316-alura-ponto-parte2', '2317-alura-ponto-sync', '2323-elixir-3', '2324-algoritmos-js', '2360-algoritmos-js-II', '2372-automacao-e2e-cypress', '2373-kotlin-spring-testes-automatizados', '2395-intro-oo-js', '2404-api-node-express', '2418-rust', '2424-rust2', '2438-angular-memoteca', '2442-phparrays', '2461-microservices-dotnet', '2471-jogoteca-2', '2495_node_testes', '2519-kotlin-spring-outros-recursos', '2545-alurafood-ms-java-spring', '2547-laravel', '2548-laravel', '2570-regressao-com-sklearn', '2573-Pentest-Parte-2', '2610-fullstack-react', '2612-doctrine', '2613-doctrine', '2622-python-tdd', '2625-alurafood-ms-infra-aws', '2632-strings', '2652-Trabalhando-com-diversos-formatos-e-tipos-de-arquivos', '2678-angular-curso2', '2685-angular-rxjs', '2700-spring-boot', '2708-node-lib-md', '2711-projeto-django-2', '2731-mensageria-com-rabbitmq', '2753-serverless-node', '2759-js-objetos', '2770-spring-boot', '2771-spring-boot', '2793-php-mvc', '2795-projeto-django-3', '2806-animacoes', '2818-layouts-responsivos', '2858-java-desafio', '2858-java-screenmatch', '2867-php-mvc', '2870-php-mvc', '2887-java-desafio', '2887-java-screenmatch-oo', '2914-java-desafio', '2914-java-screenmatch-listas-colecoes', '2915-projeto-django-4', '2944-java-desafio', '2944-java-screenmatch-consumindo-webservice', '2948-kotlin-alugames-curso1', '2965-gerenciamento-de-estados-mobx', '2969-workflow-dev', '2969-workflow-dev-inicial', '2970-serverless-base-back', '2970-serverless-base-front', '2986-memorando', '3033-bloc-com-cubit', '3076-cypress-alurapic-back', '3076-cypress-alurapic-front', '3087-app-web-java-spring', '3104-serverless-sqs', '3116-Flutter-MVC', '3117-clean_architecture', '3125-reactnative-redux_com_immer', '3149-boas-praticas-java', '3150-jornada-milhas', '3156-Curso-2-AppSec', '3156-Curso-2-AppSec-Front', '3172-alfabit-design-system', '3177-chatgpt-programacao', '3187-kotlin-alugames-curso2', '3213-jornada-milhas', '3227-Curso-3-AppSec', '3238-boas-praticas-java', '3257-java-desafio', '3257-java-screenmatch-com-spring', '3266-express-mongo', '3283-desafio-kotlin-curso3', '3283-kotlin-alugames-curso3', '3325-jornada-milhas', '3349-boas-praticas-java-testes', '3355-java-desafio', '3355-java-screenmatch-com-jpa', '3356-java-desafio-web', '3356-java-screenmatch-web', '3356-java-web-front', '3360-calmaria-spa', '3361-Curso-4-AppSec', '3362-Curso-5-AppSec', '3367-swift-tratamento-de-erros', '3374-nodejs-express-sequelize', '3374-nodejs-express-sequelize-gravacao', '3386-git-github', '3410-persistencia-poliglota', '3411-praticando-logica', '3413-jornada-milhas', '3414-node-sequelize-II', '3482-uicollectionview', '3483-iOS-MVP-Cinetopia', '3486-acessibilidade-vidflow', '3487-HTML-Calmaria_Spa', '3488-CSS-Calmaria_Spa', '3489-calmaria-spa-javascript', '3490-react-acessibilidade', '3491-angular-a11y', '3492-React-componentes', '3493-React-Criando-sua-primeira-aplicacao', '3494-react-context-api', '3495-indexa', '3496-angular-indexa', '3498-next-14-ssr-codeconnect-parte-2', '3499-next-14-ssr-codeconnect', '3500-meteora-ecommerce-next-14', '3504-flutter-animations', '3505-flutter-animation-fourth', '3506-csharpWeb-screensound-curso1', '3513-JS-fundamentos1', '3519-nodejs-vidflow', '3519-nodejs-vidflow-vite', '3521-Android-MLKit-Translations', '3522-Android-MLKit-Smart-Suggestions', '3530-js-arrays', '3530-js-arrays-substituto', '3536-persistencia-poliglota', '3561-js-objetos', '3570-openai-java', '3571-openai-java-2', '3618-organo', '3619-jornada-milhas', '3619-jornada-milhas-api', '3630-API_Gateway', '3639-csharptestes-jornadamilhas-curso1', '3645-jornada-milhas-playwright', '3646-jornada-milhas-playwright-2', '3648-Android-MLKit-Object-Detection', '3650-formik', '3652-react-forms', '3653-react-forms-zod', '3654-rotas-react-native', '3655-angular-indexa', '3659-JornadaMilhas-curso2', '3664-zoop-store', '3669-gerenciamento_getx', '3670-aprofundando_getx', '3670-vidflow_api', '3671_flutter_drift_hive', '3672_flutter_dio', '3674-Machine-Learning-Android-Reconhecimento-Imagens', '3697-django-frontend', '3698-java-clean-architecture', '3699-java-ddd-desafio', '3699-java-domain-driven-design', '3700-arquitetura-java', '3709-nodejs-lib', '3710-javascript-oo', '3711-csharp-reflection', '3721-ui-para-devs', '3721-ui-pra-devs', '3726-scripting', '3730-php-intro', '3734-code-connect', '3739-next-auth', '3745-cypress-volserver', '3748-gestao-memoria-vollmed', '3751-gemini-com-node', '3752-gemini-com-node', '3781-javascript', '3782-javascript', '3782-lista-de-exercicios', '3786-react-pwa', '3787-react-pwa', '3788-code-connect', '3789-code-connect', '3794_flutter_tests_001', '3795_flutter_tests_002', '3796-anybank', '3799-Reconhecimento-Facial-Android-MLKit', '3800-Deteccao-Poses-Android-MLKit', '3801-javascript-pra-web', '3802-javascript-assincrono', '3826-heuristicas', '3827-animacoes-css', '3830-scripting', '3836-entity-freelando-curso1', '3850-iniciando-cloud-adopet-backend', '3857-java-spring-webflux', '3858-iniciando-cloud-4', '3860-langchain-agentes-python', '3865-seguranca-java', '3866-seguranca-java-2', '3867-seguranca-java-3', '3876-blockchain', '3876-blockchain-bank-token', '3876-blockchain-frontend', '3892-claude-python-1', '3893-claude-python-2', '3895-java-spring-batch', '3895-java-spring-desafio', '3983-integracao-continua', '3986-produtividade-front-end', '3991-Deteccao-Codigos-Android-MLKit', '3992-css-grid', '3993-css-flexbox', '3994-sass', '3995-css-seletores-e-variaveis', '3996-css-responsividade', '3997-calculadora', '3997-meu_app', '3997-notas', '3998-dart-poo', '3d-blender', '3d-softimage-ilustracao-parte-1', '4007-cinetopia', '4015-app-externo', '4015-nx-monorepo-storybook', '4016-nx-monorepo-storybook-2', '4017-app-externo', '4017-nx-monorepo-storybook-3', '4018-nx-monorepo-storybook-4', '4062-linux2', '4068-ai-sdk-by-vercel', '4085-openai_avalie_otimize_codigo_openai', '4091-spring-ai', '4095-eventos-delegates-lambdas', '4102-linq-serenatto', '4105-use-dev-commerce-app', '4136-js-node-streams', '4143-gemini-e-python-criando-ferramentas-com-api', '4144-boas-praticas-python-curso01', '4145-boas-praticas-python-curso02', '4156-anybank', '4159-SSR', '4160-deleite', '4161-zustand', '4162-recoil', '4163-react-redux', '4164-react-mobx', '4176-Github-Copilot-Android-Studio', '4177-Whisper-Dalle-GPT-Android', '4178-Gemini-Android-Imagens-Textos', '4189-microsservicos-java-spring', '4191-climapp', '4240-Python-e-Gemini-crie-seu-chatbot-com-IA-Generativa', '4241-Python-e-Gemini-Orquestrando-LLMs-com-LangChain', '4268-cobol', '4299-javascript', '4320-seguranca-aspnetcore', '4349-seguranca-java-4', '4381-threads-and-processes', '4455-organo', '4456-angular-19-curso-2', '4457-angular-19-curso-3', '4459-angular-organo', '4460-angular-rotas', '4461-react-context-api', '4462-fokus-react-native', '4463-fokus-expo-router', '4465_flutter_camera', '4466-panucci_ristorante', '4467-flutter_geolocalizacao', '4469-integrando_arkit', '4472-react-ts', '4487-react-hooks', '4490-jornada-milhas-angular-material', '4491-lazy-loading', '4517-rn-desbrava-app', '4529-pulumi-python', '4548-swagger-documentation', '4549-eslint', '4561-cobol-arquivos-indexados', '4565-Fine-Tuning-OpenAI', '4573-cobol', '4574-praticando-js-condicionais', '4576-praticando-js-lacos', '4577-praticando-js-funcoes', '4583-praticando-js-arrays', '4586_flutter_gorouter', '4591-nodejs-testing', '4593-gabarito', '4596-praticando-js-objetos', '4597-Seguranca-containers', '4644-praticando-js-css-animacoes-scroll', '4647-praticando-localstorage', '4649-react-supabase-1', '4654-tecboard', '4659-validando-formularios-com-javascript', '4663-praticando-react-apis', '4694-praticando-testes-angular', '4713-praticando-acessibilidade-angular', '4741-LangChain-e-Python-criando-ferramentas-com-a-LLM-OpenAI', '7daysofcode-estruturas-de-dados', '7daysofcode-ios', 'A-Vinganca-De-Blaid-2D-Alura-Definitivasso', 'acessibilidade-web-front-end-1', 'acessibilidade-web-front-end-2', 'acessibilidade_frontend_2', 'adopet', 'adopet-backend-cypress', 'adopet-frontend-cypress', 'adopet-ios', 'adopet-mao-na-massa', 'adopet-store', 'after-effects-composicao-e-sonorizacao-de-animacao', 'agenda-web', 'agendamento-hospitalar', 'agendamento-hospitalar-2', 'alfabit-design-system', 'alfabit-ds', 'alfabit-ds-pkg', 'alfabit-monorepo', 'alfabit-monorepo-old', 'alfood', 'allbooks', 'alura', 'alura-abap-02', 'Alura-AKS', 'alura-analise-facial', 'alura-apache-beam', 'alura-autenticacao-simples-com-amazon-cognito', 'alura-az-204', 'alura-az204-parte2', 'Alura-AzureIntroducaoWebAppsSQL', 'alura-blockchain-2', 'alura-books', 'alura-books-api', 'alura-books-aulas', 'alura-books-server-aulas', 'Alura-Buenas-Practicas-Java-2', 'alura-cdi', 'alura-clustering-validation', 'alura-cook-curso-1', 'alura-cook-curso-2', 'Alura-COVID2', 'alura-csharp-1', 'alura-csharp-4-projeto', 'alura-csharp2', 'alura-csharp3', 'alura-css-grid-layout', 'alura-data-pipeline', 'alura-deep-learning-2', 'alura-design-patterns-2', 'alura-docs', 'alura-docs-2', 'Alura-Fix-BlaidHunt', 'alura-fundamentos-sage-maker', 'alura-gatito-static', 'alura-home-hub', 'alura-identity', 'alura-intercambios', 'alura-ionic-parte-2', 'alura-kafka', 'alura-lab-signals', 'alura-laravel', 'alura-laravel2', 'alura-mais-puppeteer', 'alura-memoria', 'alura-microsvc2', 'alura-moda', 'alura-ms', 'alura-newsletter', 'alura-pizza', 'alura-play-api', 'alura-play-api-requisicoes', 'alura-plus', 'alura-podman', 'alura-ponto', 'alura-protractor', 'alura-runner-circle-1', 'alura-runner-circle-2', 'alura-server', 'alura-shows', 'alura-spa', 'alura-space', 'Alura-Spark-Curso', 'alura-start-storytelling-1', 'alura-studies', 'alura-styled-components', 'alura-tour', 'alura-tracker', 'alura-transformator', 'alura-validacao', 'alura-viagens', 'alura-viagens-constraints', 'alura-viagens-parte-II', 'Alura-Viagens-parte1', 'Alura-Viagens-parte2', 'alura-viagens-swiftui', 'alura-voz', 'Alura.ByteBank', 'Alura.ByteBank.WebApp', 'alura.estacionamento', 'Alura.MinimalAPI', 'alurabeauty', 'alurabooks', 'alurabooks-ds', 'alurabooks-gql', 'alurabooks-graphql', 'alurabooks-graphql-pt2', 'aluracar', 'aluracast', 'AluraElasticSearch', 'aluraflix', 'aluraflix-front', 'AluraFlix_aula1', 'Aluraflix_aula2', 'AluraFlix_aula3', 'AluraFlix_aula4', 'AluraFlix_aula5', 'AluraFlix_ProjetoFinal', 'aluramais_highlightjs', 'aluramidi-curso', 'AluraNetJunior', 'aluranewsletter', 'aluraphone', 'aluraphone-intermediario', 'alurapic', 'alurapic-base', 'aluraplay', 'aluraplay-requisicoes', 'aluraplus', 'alurasquare-android', 'alura_abap-3', 'alura_angular_rxjs_1', 'alura_books', 'alura_classificacao_multilabel', 'alura_datavis', 'alura_flutterforms', 'alura_flutter_client_control', 'alura_flutter_curso_1', 'alura_flutter_curso_2', 'alura_flutter_curso_3', 'alura_flutter_curso_7', 'alura_flutter_intermediario_curso_1', 'Alura_Latam_Dashboard_PBI', 'alura_receitas_django', 'alura_receitas_django_parte2', 'alura_receitas_django_parte3', 'alura_receitas_django_parte4', 'alura_space', 'Alura_UnityMobile', 'Alura_UnityMobile2', 'Alura_UnityMobile3', 'aluroni-introducao', 'aluroni-performance', 'aluroni-router', 'am237-hyperv', 'am238-wsl', 'amais-233-haproxy', 'amais-234-haproxy-apigateway', 'analise-dados-seaborn', 'Analise-de-Dados-com-R', 'Analise-descritiva-com-R', 'analise_dados_R_chatGPT', 'AndriuCoelho-ios-chef-delivery-uitest', 'android-alura-viagens-parte-1', 'android-alura-viagens-parte-2', 'android-autenticacao-firebase-auth-google', 'android-autenticacao-firebaseui', 'android-brasil', 'android-com-kotlin-comunicacao-web', 'android-com-kotlin-fundamentos', 'android-com-kotlin-migrations-e-relacionamento-com-room', 'android-com-kotlin-persistencia-de-dados-com-room', 'android-com-kotlin-personalizando-ui', 'android-com-kotlin-testes-de-unidade-e-mocks', 'android-com-kotlin-testes-instrumentados', 'android-databinding', 'android-di-koin', 'android-eventos', 'android-fragments', 'android-kotlin-testes-de-unidade-e-mocks', 'android-navigation', 'android-navigation-2', 'android-persistencia-web', 'android-persistencia-web-api', 'android-room-parte-1', 'android-room-parte-2', 'android-studio', 'android-studio-ii-integracoes-e-recursos', 'android-studio-iii-fragments-maps-gps', 'android-sync', 'android-sync-parte-1', 'android-sync-parte-2', 'android-sync-parte-3', 'android-tech-news', 'android-teste-espresso-parte-1', 'android-teste-espresso-parte-2', 'android-testes-mock', 'angular-17-signals', 'angularjs-mvc', 'angular_formularios', 'angular_interceptor', 'animacao-3d-com-softimage', 'Animacoes', 'ansible', 'Ansible_Wordpress', 'anyflix-rest-api', 'apache-labs', 'api-alurabooks', 'api-bytebank', 'api-bytebank-v2', 'api-freelando', 'api-go-rest', 'api-graphql-quimica', 'api-node-express-2', 'api-petshop', 'api_rest_gin_go', 'api_rest_gin_go_2-validacoes-e-testes', 'app-distribution-alura-course', 'app-ejemplo-node', 'app-inventor-alura-photo-fun', 'appinventor-sabre-de-luz', 'archive', 'arduino', 'argentum-api', 'argentum-web', 'arquitectura-css-base', 'arquitectura-css-proyecto', 'arquitetura-css', 'arrays', 'Array_Collections_C', 'artigo-android-ondefica', 'artigo-animated_foo', 'artigo-arvores-cr', 'artigo-css-nx', 'artigo-formulario-flutter', 'artigo-pode-interpreter', 'artigo-ts-vanilla', 'artigos-alura', 'Artigo_Streamlit_Alura', 'ASP.NET-Razor', 'aspnet-identity-parte-1', 'aspnet-identity-parte-2', 'aspnet-identity-parte-3', 'aspnet-identity-parte-4', 'ASPNETCore-Parte4', 'ASPNETCore2-Parte3', 'ASPNETCore20', 'ASPNETCore20-Parte2', 'ASPNETCoreToMVC5', 'AspNetIdentity', 'Assets-aula2-curso3-html-e-css', 'atividades-praticando-css-flexbox', 'atividades-validacao-de-formularios-com-js', 'auth-vue-vuex', 'Avaliacao_Credito', 'avancando-html-css', 'avengers', 'aws-lambda-alura', 'b4js', 'backend-formacao-ios', 'background-remove-main', 'background-tasks', 'banking-service', 'banking-validation', 'biblioteca', 'bibliotecas_visualizacao', 'bitcoin', 'blog-do-codigo', 'blog-do-codigo-2', 'BoasPraticasCsharp', 'bootcamp-java-carteira-api-modulo2', 'bootcamp-java-carteira-api-modulo3', 'bootcamp-java-carteira-api-modulo4', 'bootcamp-java-carteira-api-modulo5', 'bootcamp-java-carteira-api-modulo6', 'bootcamp-java-livraria-api-modulo2', 'bootcamp-java-livraria-api-modulo3', 'bootcamp-java-livraria-web', 'bootcampds-modulo3-pense2015', 'bootstrap', 'bootstrap-2985', 'bootstrap-boas-praticas-no-front-end', 'buscante', 'buzz-app', 'byte-bank-alura', 'bytebank', 'bytebank-api', 'ByteBank-exception', 'bytebank-javascript', 'bytebank-kotlin-jdbc', 'bytebank-v2', 'ByteBankIO', 'bytebooks', 'bytebooks-2', 'bytebooks-3', 'bytebooks-assets', 'C-I-Introdu-o-Linguagem-das-Linguagens', 'C-II-Avan-ando-na-linguagem', 'c-sharp-brasil-lidando-com-datas-numeros-documentos', 'c-sharp-I-fundamentos-da-linguagem', 'c-sharp-II-fundamentos-da-linguagem', 'CalculadoraFactoryApp', 'camel', 'car-inventory', 'car-service', 'CarreiraRPG_1', 'cartas-personagens', 'carteira', 'casadocodigo', 'CatAsService', 'cd-alura-course', 'cd4ml-hands-on-final', 'cd4ml-hands-on-inicial', 'cdi-usando-umas-das-principais-espeficacoes-do-javaee', 'ceep-com-hilt', 'Ceep-live-Android-Kotlin', 'ceep-pwa', 'ceep-recyclerview-parte1', 'ceep-recyclerview-parte2', 'ceep-web-api', 'certificacao-csharp-pt1', 'certificacao-csharp-pt10', 'certificacao-csharp-pt11', 'certificacao-csharp-pt12', 'certificacao-csharp-pt3', 'certificacao-csharp-pt4', 'certificacao-csharp-pt5', 'certificacao-csharp-pt6', 'certificacao-csharp-pt7', 'certificacao-csharp-pt8', 'certificacao-csharp-pt9', 'Certificacao-PMP', 'challend-frontend-alura', 'challenge-oracle-decoder-esp', 'challenge-oracle-decoder-ptbr', 'challenge-oracle-hangman-esp', 'challenge-oracle-hangman-ptbr', 'challenge2-data-science', 'challenge2-data-science-LATAM', 'challengeBI-2021', 'chef-delivery-parte1', 'chrome-devtools', 'ci-alura-course', 'ciencia-na-pratica-1', 'ciencia-na-pratica-2', 'cinetag', 'classificacao_multiclasse', 'classificacao_xgboost', 'clean-code-dart-pt', 'click-bonus', 'clickbonus-avan-ef-core-curso3-record', 'clientes-leo-api', 'climapp-aula', 'clojure-all-about-collections', 'clojure-introducao', 'clojure-introducao-a-colecoes', 'clojure-introducao-a-testes', 'clojure-introduction', 'clojure-mutabilidade-atomos-e-refs', 'clojure-mutability-atoms-refs', 'clojure-property-based-tests', 'clojure-records', 'clojure-records-a-multimethods', 'clojure-schema', 'Clustering', 'Clusterizacao-dados-sem-rotulo', 'cmaismais', 'cobol-4561', 'cocos', 'cocos-creator-parte4', 'cocos4', 'CocosCreator-parte2', 'cocoscreator3', 'cocoscreator5', 'code-connect-artigo', 'CodeIgniter-I-Programando-elegantemente-para-a-web', 'codeigniter-php-mvc', 'codeigniter-php-mvc-parte-2', 'combina-classificadores', 'completador-de-codigo', 'Conexao-oracle-python', 'conexoes-power-bi', 'ContainRs', 'ContainRs.DDD', 'ContainRs.DDD2', 'continuous-delivery-for-machine-learning-data', 'cookiecutter-ml-fastapi', 'cookin-up', 'cookingup-base', 'cordova-phonegap', 'Cordova-PhoneGap-Apps-mobile-com-HTML-CSS-e-JS', 'corretor', 'couchbase-flutter', 'covid-19-clinical', 'covid-19-clinical-2', 'COVID-Alura', 'cozinhando-casa-ionic4', 'cozinhando-em-casa-flutter', 'credit_scoring', 'criacao-de-personagem-publicitario', 'criando-uma-webapp-com-java-e-mongodb', 'csharp', 'csharp-01', 'csharp-atualizacoes', 'csharp-atualizacoes-csharp7', 'csharp-collections', 'csharp-collections-2', 'csharp-curso-4', 'csharp-eventos-delegates-lambda', 'csharp-exceptions', 'csharp-exceptions-pilha', 'csharp-parte-1-primeiros-passos', 'csharp-refatorando-codigo', 'csharp-refatorando-codigo-2', 'csharp-refatorando-codigo-3', 'csharp-reflection-1', 'csharp-reflection-2', 'csharp2', 'CSharp73', 'CsharpArquivos', 'CSharpELD', 'csharpexceptions', 'csharppoo', 'csharppoo2', 'CSharpPrimeirosPassos', 'csharppt5', 'csharppt6', 'csharppt7', 'csharppt8', 'csharppt9', 'csharp_exception', 'culturama', 'curso-3393-azure-functions-projeto', 'curso-5-dart-assincronismo', 'curso-airflow-databricks', 'curso-alura-css-grid-layout', 'curso-ambientes-virtuais-2', 'Curso-Ant-Build-robusto-para-projetos-Java', 'Curso-Arduino-Do-zero-ao-jogo', 'curso-arquitetura-e-escalabilidade', 'curso-arquitetura-e-escalabilidade-curso2', 'curso-c-2-avancando-na-linguagem', 'curso-c-3-recursos-avancados-da-linguagem', 'Curso-C-III-Recursos-avan-ados-da-linguagem', 'curso-c-introducao-a-linguagem-das-linguagens', 'curso-chat-llm', 'curso-cypress', 'Curso-Dart-Primeiros-Passos', 'Curso-Data-analysis-trabalhando-com-dados-e-estat-sticas', 'Curso-Design-Patterns-Python-I-Boas-pr-ticas-de-programa-o', 'Curso-Design-Patterns-Python-II-Boas-pr-ticas-de-programa-o', 'Curso-Django-programa-o-web-com-Python-e-simplicidade', 'curso-django-react', 'Curso-EJB-O-poder-da-Java-EE', 'Curso-Elasticsearch-Pesquisando-e-analisando-os-seus-dados', 'curso-es7-es8', 'curso-go-1', 'curso-go-2', 'curso-go-3', 'Curso-Grunt-Automa-o-de-tarefas-front-end', 'Curso-Gulp-automa-o-de-tarefas-front-end', 'curso-intro-serverless', 'Curso-Ivy-Gerenciamento-de-depend-ncias-flex-vel', 'Curso-Jasper-Reports-Relat-rios-com-Java', 'Curso-Java-e-JDBC-Trabalhando-com-um-banco-de-dados', 'Curso-Java-parte-1-Primeiros-passos', 'Curso-Java-parte-2-Introdu-o-Orienta-o-a-Objetos', 'Curso-Java-parte-3-Entendendo-heran-a-e-interface', 'Curso-Java-parte-4-Entendendo-exce-es', 'Curso-Java-parte-5-Pacotes-e-java.lang', 'Curso-JAX-RS-e-Jersey-Domine-a-cria-o-de-webservices-REST', 'Curso-JAX-WS-Domine-a-cria-o-de-webservices-SOAP', 'Curso-jQuery-Domine-a-biblioteca-mais-popular-do-mercado', 'curso-js-n-secreto', 'curso-kubernetes', 'curso-llamaindex-banco-de-dados-vetorial', 'Curso-Machine-Learning-II-Avan-ando-com-tipos-diferentes-de-classifica-o', 'curso-matplotlib', 'curso-next-2-desafio', 'curso-node-oauth', 'curso-nodejs-teste', 'curso-php-i-orientacao-a-objetos-com-sua-linguagem-preferida', 'curso-php-ii-avancando-com-orientacao-a-objetos', 'curso-polars-tabelas', 'curso-python-1', 'curso-python-2', 'Curso-Python-2-Programando-com-a-linguagem', 'Curso-Python-3-Introdu-o-a-Orienta-o-a-objetos', 'Curso-Python-3-parte-1-Introdu-o-nova-vers-o-da-linguagem', 'Curso-Python-3-parte-2-Avan-ando-na-linguagem', 'curso-react-alurabooks', 'curso-serverless-parte-2', 'curso-tensorflow-audio', 'curso-tensorflow-convolucao', 'curso-tensorflow-proxima-palavra', 'curso-uipath-alura', 'Curso-VBA-Automatizando-tarefas-no-Excel', 'curso-vim', 'Curso-VRaptor-e-JPA-Pratique-Java-com-um-sistema-completo', 'Curso-Web-API-2-O-framework-de-cria-o-web-services-REST-no-.NET', 'curso-web-design-responsivo-paginas-que-se-adaptam-do-mobile-ao-desk', 'curso05-arquitetura', 'Curso1_CSharp', 'curso2-go', 'cursocobol2', 'CursoCypressE2E', 'CursoDeTestes', 'CursoHTML', 'CursoLayoutReactNativeAulas', 'cursoopencobol', 'cursoprompt', 'cursorefatoracao', 'cursos-symfony', 'curso_arvore_decisao', 'curso_bibliotecas', 'Curso_CI', 'Curso_CI_2', 'Curso_CI_3', 'Curso_CI_4', 'Curso_CI_5', 'Curso_CI_6', 'curso_estilizacao', 'curso_geopandas', 'curso_OrientacaoObjetosC01R', 'curso_OrientacaoObjetosC02R', 'Curso_QGIS', 'curso_scikitlearn', 'C_OrientacaoObjetos', 'C_OrientacaoObjetos2', 'dart-orientacao-objetos', 'dart-primeiros-passos', 'dart-sintaxe', 'dart_assincronismo_api', 'dart_exceptions', 'dart_exceptions_ns', 'dart_flutter_lista_exercicios', 'dart_praticando_excecoes_coleta', 'dash', 'dashboard_com_r', 'data-science-analise-exploratoria', 'data-science-e-saude', 'data-science-e-saude-de-parte-1', 'data-science-introducao-a-testes-estatisticos-com-python', 'data-science-regressao-linear', 'datavisualization', 'dataviz-graficos', 'dataviz-graficos-composicao-relacionamento', 'dataviz2', 'dataviz_mult_var', 'Dataviz_R_Projeto_Final', 'Dataviz_R_Projeto_Inicial', 'dataviz_uma_var', 'data_science_para_marketing', 'data_science_projeto', 'datomic-e-schemas', 'datomic-filtros-e-historicos', 'datomic-geradores-schemas-e-indices', 'datomic-identidades-e-queries', 'datomic-introducao', 'datomic4-bindings-transaction-functions-e-history', 'deeplinking-ios', 'deeptime', 'deep_learning_series_temporales', 'desafio-onboard-flutter', 'desenvolvimento-de-jogos-com-lua', 'desenvolvimento-de-jogos-com-lua-parte-2', 'desenvolvimento-em-swift-3-para-ios-parte1', 'desenvolvimento-em-swift-3-para-ios-parte2', 'desenvolvimento-em-swift-3-para-ios-parte3', 'desenvolvimento-web-asp-net-mvc-5', 'desenvolvimento-web-com-vraptor-4', 'Design-Patterns-Java-I-Boas-pr-ticas-de-programa-o', 'design-patterns-para-bons-programadores-2-em-php', 'design-patterns-para-bons-programadores-em-php', 'Design-Patterns-PHP-I-Boas-pr-ticas-de-programa-o', 'Design-Patterns-PHP-II-Boas-pr-ticas-de-programa-o', 'design-tokens', 'designethics', 'Detectando-Fraude', 'dev-meetups-android-app', 'dev-meetups-api', 'devops', 'DIA1-Imersao-Alura-2024', 'DIA2-Imersao-Alura-2024', 'DIA3-Imersao-Alura-2024', 'DIA4-Imersao-Alura-2024', 'DIA5-Imersao-Alura-2024', 'Dicars', 'digital-marketing-gcp', 'digital-marketing-ml', 'django-oauth', 'django_forms_curso', 'django_tdd', 'docker', 'doguito-api', 'doguito-site-orm', 'dotnet-api', 'dotnet-api-2', 'dotnet_async_rec', 'drf-escola-curso-01', 'drf-escola-curso-02', 'drf-escola-curso-03', 'drf-escola-curso-04', 'drf-escola-projeto_inicial', 'drf_clientes_api', 'drf_escola_api', 'drf_lapidacoes', 'drf_teste_documentacao', 'ds-alurabooks', 'ds-demo', 'ds_md', 'dubles-de-testes', 'DV-estilizacao-tabelas', 'ecs-curso-servico1', 'ED', 'email-marketing', 'emailmkt-responsivo1', 'emailmkt-responsivo2', 'EmpregoConnect', 'engdados-alura', 'engenharia-analytics-analises-athena-glue', 'engenharia-analytics-pipeline-etl', 'engenharia-de-analytics-pipeline-automatizada', 'entity-framework-7', 'entrevista-tech-javascript', 'entrevista-tech-portifolio', 'escola-alura-repository', 'escola_api_3', 'escola_react_api_3', 'estatistica-r-frequencias-medidas', 'estatistica-r-probabilidade-amostragem', 'estatistica-r-testes-hipoteses', 'Estatisticas-Python-frequencias-medidas', 'Estudos-de-Python', 'event-tracker', 'example-crewai', 'excel', 'excel-2', 'excel-3', 'excel-funcoes', 'excel-introducao', 'excel-procv', 'excel-simulacao-e-analise-de-cenarios', 'excel_tabela_dinamica', 'exporter-test', 'fake-rest-api', 'filmeteca', 'financas-kotlin-parte1', 'financas-kotlin-parte2', 'financas-kotlin-parte3', 'Firebase-Authentication-Android', 'firebase-cloud-firestore-android', 'Firewall-ASA-Basics', 'flappybird-multiplayer', 'flappybirdunity-2', 'flappybirdunity1', 'flappybirdunity2', 'flashcard', 'flask-powered', 'flex-e-grid', 'flutter-bloc', 'flutter-crashlytics', 'Flutter-CrashLytics-1', 'flutter-firebase-todo-list', 'flutter-fundamentos', 'flutter-gerenciamento-de-estado', 'Flutter-I18N', 'flutter-internationalization', 'flutter-node-bytebank-docker', 'flutter-notifications', 'flutter-nuvigator', 'flutter-persistencia-interna', 'flutter-petshop', 'flutter-sqlite', 'flutter-supabase', 'flutter-tests', 'flutter-webapi', 'flutter-webapi-2', 'flutter_animations_first', 'flutter_animations_second', 'flutter_architecture_package', 'flutter_banco_douro', 'flutter_cloud_firestore', 'Flutter_Dio_API', 'flutter_firebase_authentication', 'flutter_firebase_firestore_first', 'flutter_firebase_firestore_second', 'flutter_firebase_storage', 'flutter_i18n', 'flutter_nfc', 'flutter_reactions_mobx', 'flutter_techtaste', 'flutter_testes_pilar', 'flutter_webapi_first_course', 'flutter_webapi_second_course', 'Fokus', 'fokus-local-storage', 'Fokus-localStorage', 'fokus-ts', 'formacao-android', 'formacao-data-science', 'Formacao-iOS', 'formacao-machine-learning', 'formacao-typescript-projeto-curso-01', 'formacao-typescript-projeto-curso-02', 'formacao-typescript-projeto-curso01', 'forms-angular', 'fortune-cookie', 'freelando', 'freelando-avan-ef-core-curso3-record', 'freelando-avancando-ef-core', 'freelando-parte-2', 'freelando-parte-3', 'freelando-reactive-form', 'freeway', 'fundamentos-android-parte-1', 'fundamentos-android-parte-2', 'fundamentos-android-parte-3', 'fundamentos-de-csharp', 'fundamentos-desenho', 'gatitoshop', 'gcloud-alura', 'GCP-VM-site-4153', 'Gerando-matriz-de-confusao', 'Gerando-matriz-de-confusao-ML2', 'github-copilot-pong', 'go-4', 'go-patterns-1', 'go-patterns-2', 'google-charts-1', 'google-crawler', 'googlecharts2', 'googlecharts3', 'go_oo', 'graphql-flutter', 'graphql-playground-artigo', 'hackday', 'HelloApp', 'heuristicas-de-nielsen-1', 'heuristicas-de-nielsen-2', 'home-hub', 'home-hub-curso1', 'html-logo', 'HTTP-Communication', 'hugging_face', 'IA-Aumentada-Iniciando-com-otimiza-o', 'ia-datascience-dataviz', 'IA-produtividade-DS', 'iac-curso2', 'iac-curso3', 'iac-curso4', 'iac-curso5', 'iac-curso6', 'iac_curso_1', 'ias-generativas', 'identidade-visual-parte-1-do-briefing-ate-um-logo-no-illustrator', 'identidade-visual-parte-2-criando-um-sistema-visual-aplicacoes-a-partir-de-um-logo', 'illustrator-finalizacao-e-apresentacao-de-personagem', 'illustrator-vetorizacao', 'imagens-ads-e-campanhas-para-facebook', 'imersao-backend-gemini-2024-front', 'imersao-dados-2-2020', 'imersao-dados-desafio-final', 'imersao-front', 'imersao-java-2', 'imersao-java-2-api', 'imersao-java-2-desafios', 'imersao-python-dados-03-2024', 'imersaodados3', 'ingles-para-entrevistas', 'instalura-api', 'instalura-react-native-1', 'intellij-idea', 'introducao-a-classificacao', 'introducao-a-computacao-da-logica-aos-jogos-com-ruby', 'introducao-a-data-science', 'introducao-a-otimizacao-de-machine-learning-atraves-de-hiper-parametros', 'introducao-a-otimizacao-de-machine-learning-atraves-de-hiper-parametros-parte-2', 'introducao-a-sistemas-de-recomendacao-com-python', 'introducao-ao-jquery', 'introducao-ao-pln-com-python', 'introducao-ao-softimage', 'introducao-html-css', 'introducao-jogos2d-com-android', 'introducao-regex', 'introduccionDataScience', 'introduccionTestsEstadisticos', 'introduction-to-machine-learning-classifiers', 'introJS', 'ionic', 'ios-chef-delivery-maestro-uitest', 'ios-chef-delivery-unit-test', 'ios-chef-delivery-unit-test-mock-stub', 'ios-construindo-seu-primeiro-aplicativo', 'ios-fundamentos-view-code', 'iOS-MVP-Cinetopia', 'ios-mvvm-pattern', 'ios-recursos-nativos-parte-1-finalizado', 'ios-recursos-nativos-parte-1-inicio', 'ios-recursos-nativos-parte-2', 'ios-server-driven-swift-bank', 'iOS-sincronizacao-com-web-service', 'ios-swift', 'ios-swiftbank-deeplink-navigation', 'iOS-TDD', 'ios-view-code', 'ios-view-code-layouts-tabelas', 'ios-view-code-requisicoes-http', 'java-8-dos-lambdas-aos-streams-e-apis', 'java-collections', 'java-ee-webapp', 'java-ee-webapp-2', 'java-ee-webapp-3', 'java-exceptions', 'java-II-alura', 'java-string-object', 'java4-excepciones', 'JavaCollections', 'JavaJSTL', 'JavaScript-avan-ando-com-uma-webapp-na-pratica', 'javascript-avancado-i', 'javascript-avancado-ii', 'javascript-avancado-iii', 'javascript-es6-orientacao-a-objetos-parte-1', 'javascript-es6-orientacao-a-objetos-parte-2', 'java_brasileirice', 'java_debug', 'jenkins-todo-list', 'jetpack-compose-armazenamento-arquivos-android', 'jetpack-compose-compartilhamento-arquivos-android', 'jetpack-compose-comunicacao-rest-api', 'jetpack-compose-criando-um-app', 'jetpack-compose-gerenciamento-de-estados', 'jetpack-compose-lazy-layouts-e-estados', 'jetpack-compose-navigation', 'jetpack-compose-navigation-deep-links-e-testes', 'jetpack-compose-navigation-type-safety', 'jetpack-compose-openai', 'jetpack-compose-room-migrations-e-relacionamentos', 'jetpack-compose-viewmodel', 'jms', 'JMS-e-ActiveMQ-Mensageria-com-Java', 'jogo-da-velha', 'jogoCSharp', 'jogos-mobile-com-unity', 'jogoteca', 'jornada', 'jornada-ia-base', 'jornada-milhas-api', 'jornada-milhas-immer', 'jornada-milhas-listener', 'jornada-milhas-query', 'jornada-milhas-redux', 'jornada-milhas-saga', 'jornada-milhas-thunk', 'JornadaMilhas-API-rec', 'JornadaMilhas-CICD', 'jpa-avancado', 'JPA-con-hibernate-Alura', 'JPA-con-hibernate-Alura-', 'JPA-con-hibernate-Alura-II', 'JPA-hibernate-Alura', 'jquery-parte2-manipulacao-de-conteudo-dinamico', 'js-arrays', 'js-consumindo-dados-api', 'js-curso-2', 'js-gerador-senha', 'js-heranca-polimorfismo', 'js-metodos-array', 'js-orientacao-objetos', 'js-projeto', 'js-projeto-de-vida', 'jsf', 'jsf-cdi', 'jsf-primefaces', 'js_localStorage', 'js_web_1920', 'kafka-3', 'kafka-cluster-de-brokers-e-microservicos', 'kafka-fast-delegate-and-clusters', 'kafka-introducao-e-microservicos', 'kafka-introduction', 'kafka3-en', 'kafka4', 'Keras-primeiros-passos', 'keras-tensorflow', 'kotlin-collections', 'kotlin-exceptions-null-safety', 'kotlin-funcional', 'kotlin-introducao-orientacao-a-objetos', 'kotlin-oo-heranca-polimorfismo-interfaces', 'kotlin-pacotes-composicao-objects', 'KotlinCollectionsAlura', 'ktor-rest-api', 'kubernetes-3', 'Kubernetes-helm', 'Kubernetes-Istio', 'Kubernetes-microsservicos', 'kubernetes-parte2', 'Kubernetes-Pratica', 'kubernetes3', 'lab-signals', 'laravel-pt-BR-localization', 'leilao-api-android-com-mocks', 'Leilao-Mock', 'less-css-simples-e-produtivo', 'libretranslate-java', 'life-cycle', 'lightroom', 'lightroom2', 'Limpeza-e-tratamento-de-dados', 'linq-c-sharp', 'linq-c-sharp-2', 'lista-de-compras', 'listavipServlet', 'Live-coding-alura-keras', 'livraria-api', 'livraria-api-atualizacao', 'llamaindex-agentes', 'llamaindex-assistente-BD', 'llamaIndex_pandas_query', 'logica-2', 'logica-de-programacao-I', 'logica-js', 'logica_progamacion_parte1', 'logica_programacion_parte2', 'logica_programacion_parte3', 'lojinha_alura', 'machine-learning-algoritmos-nao-supervisionados', 'machine-learning-classificacao', 'machine-learning-com-r-classificacao-de-focos-de-dengue', 'machine-learning-introducao-a-classificacao', 'machine-learning-introducao-a-classificacao-2', 'machine-learning-introducao-a-classificacao-com-sklearn', 'machine-learning-introducao-a-validacao', 'machine-learning-introducao-aos-sistemas-de-recomendacoes', 'machine-learning_validacao', 'machine_learning_chatgpt', 'manipulacao-strings-alura', 'manipulacao_strings', 'maratona-programacao', 'maratonaprogramacao', 'masterclass-usando-IA-para-criar-um-chatbot-para-whatsapp', 'material-extra-django5', 'material_extra_tdd', 'maven', 'maya-modelagem-de-personagem', 'mba', 'mean-javascript', 'meteora', 'meteora-assets', 'meteora-backend', 'meteora-frontend', 'meteora-monorepo', 'minecraft-estruturas-logicas-redstone', 'missao-IA', 'missao-refletindo-sobre-inteligencia-artificial', 'ml5js-visao-computacional-em-js', 'ml5js-visao-computacional-js', 'mlops-alura', 'ML_Classificacao_por_tras_dos_panos', 'ML_Nao_supervisionado', 'mochila-de-viagem', 'mocks-imdb', 'moderadores', 'mongodb-modelagem-1', 'mongodb-modelagem-2', 'monibank', 'monorepo-javascript', 'movie-api', 'movimento-videos', 'music-clustering', 'nerdwear', 'nestjs-curso-3', 'nestjs-curso-4', 'nestjs-rest-loja', 'nestjs-typeorm-alura', 'news-api', 'next-3-jwt', 'next-com-ts', 'nextjs-arquitetura', 'nextjs-cadastrar-usuario', 'nextjs-fullstack-2', 'nextjs-newsletter-03', 'ng-fokus', 'ng-test1', 'ng-test2', 'Nhibernate', 'nlp-modelos-linguagem', 'NLP-trabalhando-similaridade-sentencas', 'nlp_analise_sentimento', 'node-js', 'nodejs-2', 'nodejs-api-rest', 'nodejs-serverless-framework', 'node_criptografia_2496', 'nookies', 'novidades-angular-17', 'numero-secreto', 'numpy', 'numpy-regressao', 'obi2017progjuniorfase1', 'obi2017prognivel1fase1', 'obi2017proguniversitariafase1', 'obic', 'objective-c', 'obtendo_dados_com_flutter_http', 'ola-mundo', 'OracleADS', 'organo', 'organo-ts', 'orientacao-a-objetos-em-php', 'orm-sequelize-projeto', 'otimizacao-hiperparametros', 'otimizacao-programacao-linear', 'otimizacao-programacao-nao-linear', 'owasp', 'owasp-clojure', 'padroes-de-projeto', 'palestra-api-nodejs', 'Pandas', 'pandas-conhecendo-a-biblioteca', 'pandasspark', 'Paralelismo-com-CSharp-e-.NET', 'payfast-nodejs-alura', 'PDO-Alura-Parte1', 'PDO-Alura-Parte2', 'performance-web', 'performance-web-2', 'photoshop-para-edicao-de-fotos', 'photoshop-para-edicao-de-fotos-2', 'php-exception', 'php-mysql-e-fundamentos-da-web', 'php-mysql-e-fundamentos-da-web-parte-2', 'php7-refatorando-para-a-nova-versao', 'phpcollections', 'phpweb', 'pintura-digital-parte-1', 'pintura-digital-parte-2', 'Pipeline-de-dados-combinando-Python-e-orientcao-a-objeto', 'play-framework', 'play-seguranca', 'pln-com-python', 'pln-deep-learning', 'polars-rust', 'polars-selecao-agrupamento', 'polars_python_test', 'portfolio-de-projetos', 'Portifolio-HTML-e-CSS', 'Portifolio-HTML-e-CSS-Curso2', 'Portifolio-HTML-e-CSS-Curso3', 'Portifolio-HTML-e-CSS-Curso4', 'posicione-elementos-com-flexbox', 'powershell', 'powershell2', 'Praticando-dados-estruturas-operacoes', 'Praticando-Flexbox', 'Primeiros_passos_pytorch', 'programming-logic-with-javascript', 'Projeto---3389', 'Projeto---3572', 'Projeto---3573', 'Projeto---3663', 'Projeto---3854', 'projeto-alura', 'projeto-apeperia', 'projeto-asp-net-mvc-5-entity-framework', 'projeto-codepen-local-quarentenadev', 'projeto-curso-robot', 'projeto-de-desenvolvimento-de-algoritmos-1', 'projeto-de-desenvolvimento-de-algoritmos-2', 'projeto-langchain', 'projeto-sass', 'projeto-vidflow', 'Projeto.Adopet', 'Projeto.Adopet.Solid', 'Projeto.Adopet.TestesLimpos', 'projetos', 'projeto_bulltrend', 'projeto_donetarch3_jornadamilhas', 'projeto_go_alura', 'prom-lab', 'Prophet_covid', 'prototipacao-alta', 'prototipoalta2', 'protractor-angular', 'provisionamento-com-vagrant-e-puppet', 'python-algorithms', 'python-analise-chatgpt-assistente', 'python-chatbot-openai-curso03', 'python-chatgpt-chatbot-curso01', 'python-curso03', 'python-introducao-a-collections', 'python-introducao-a-collections2', 'pythonio', 'python_dados', 'Python_exceptions', 'rails5-parte2', 'react-adopet-app', 'react-componentes-funcionam', 'react-context', 'react-native-animacoes', 'react-native-comecando-do-zero', 'react-native-comecando-do-zero-', 'react-native-context-api', 'react-native-criando-testes-para-sua-aplicacao', 'react-native-ficando-online', 'react-native-firebase-authentication', 'react-native-firebase-firestore', 'react-native-firebase-firestore-old-', 'react-native-firebase-notification', 'react-native-firebase-storage', 'react-native-ionicons', 'react-native-navegacao-entre-telas', 'react-native-parte-1', 'react-native-parte-2', 'react-native-utilizando-e-criando-hooks', 'react-todo-list', 'React_Native_Chat_Real_Time_Firebase', 'readme-template', 'rec_donetarch3_jornadamilhas', 'redes-neurais', 'redes_neuronales_pytorch', 'reducao-dimensionalidade', 'regex_curso', 'RegistroDeAcesso', 'regressao-linear-curso', 'regressaolinear_r', 'regressao_boosting', 'responsive_stylesheet', 'Rest-Assured-Testes-automatizado-de-webservice', 'restaurantes_api', 'RestWrapper', 'rn-desbrava-app', 'rn-desbrava-app-2', 'robot-framework-organo', 'robotron-2000', 'ruby-on-rails-5', 'r_io', 's-ries-temporais-statsmodels', 'salvandoLocalmente', 'sas-parte1', 'sasdois', 'sass', 'SBLoan', 'Scikit-learn-notebooks', 'scratch-defender-1', 'scratch-defender-intro', 'ScreenSound', 'ScreenSound-BlazorWeb', 'ScreenSound-Curso4', 'ScreenSound-TestesDeIntegra-o', 'ScreenSound.API', 'ScreenSound03', 'Segmentacao-Cliente', 'seguranca-nodejs', 'selecao-de-features', 'sembast_cache', 'sequelize-cjs-to-esm', 'serenatto_cafes', 'series_temporais_prophet', 'serie_temporal_bootcamp', 'server-petshop', 'serverless-framework-2-lambda', 'serverless-sqs-gravacao', 'servlet-3-e-fundamentos-web', 'Servlets-Fundamentos-de-Java-na-Web', 'SevenDaysOfCodeAndroid', 'SevenDaysOfCodeKotlin', 'simulacao_banco', 'site-acessivel', 'site-criativo-alura', 'sketch', 'sobre-componente', 'solid', 'SOLID-com-Java-Orienta-o-a-Objetos-com-Java', 'solid-ios', 'solid_exemplos', 'sorteador-de-amigo-secreto', 'space-app', 'spaceapp-web', 'spaceinvaders1', 'spaceinvaders2', 'spa_js', 'spotify-imersao', 'spring-mvc-i-criando-aplicacoes-web-master', 'springboot', 'springmvc-2-integracao-cache-seguranca-e-templates', 'SQL-python-integracao', 'sqs-1914', 'stages-jpa-segunda-parte', 'streamlit_bootcamp', 'strings', 'styleguide-css', 'SuperCompras', 'svelte-perfis', 'svg-css-animacao', 'swagger', 'swagger-parte-2', 'swift-1', 'swift-3', 'swift-bank', 'swift-entendendo-a-linguagem', 'swift-orientacao-a-objetos', 'swift-part2', 'swiftui-animacoes-drag-gesture', 'swiftui-navegacao-gerenciamento-estado', 'swiftui-parte2', 'swiftui-requisicoes-http-e-conexoes-api', 'swiftui-vollmed-authentication', 'swiftui-vollmed-crud', 'tagarelapy', 'tasky-app', 'tdd', 'tdd-android-parte-1', 'tdd-android-parte-2', 'techtaste-api', 'techtaste-app', 'tensorflow', 'tensorflow-geracao', 'testando_modelos_regressao', 'teste-react-typescript', 'teste-tecnico-alura-space', 'testes-automatizados-em-javascript-com-jasmine', 'testes-e2e-cypress', 'testes-e2e-cypress-v2', 'testes-python', 'TestsWithCompose', 'text-recognize', 'threads-java-1', 'threads-java-2', 'timeseries', 'tipografia', 'to-do', 'todo-android-artigos', 'todo-api', 'todo-list', 'Trabalhando-com-Spark-NLP', 'trabalhandocomgrid', 'tracker-2', 'tracker-3', 'trato-tech', 'trato-tech-immer', 'trato-tech-listener', 'trato-tech-saga', 'trato-tech-testes', 'trato-tech-thunk', 'tribo-chat-event-driven', 'twitter-visionapi', 'typescript-curso-1', 'typescript-curso-2', 'typescript-curso-3', 'typescript-gravacao', 'typescript-para-backend', 'Unit-Test-Flutter', 'unity-shooter', 'unity-shooter-2', 'unity-shooter-3', 'unity-shooter-4', 'unreal-vr-arquitetura-parte-1', 'unreal-vr-arquitetura-parte-2', 'vagas', 'validacao-doguito', 'Validando-Formulario', 'vertex', 'video-fuga-das-sombras', 'virtualenv-python', 'Visao-Computacional-analise-facial', 'Visao-Computacional-Classificacao', 'Visao-Computacional-Processamento-de-Imagens', 'Visao_computacional-OMR', 'voll', 'voll-api-nodejs', 'voll-mobile-integracao-api', 'voll-mobile-projeto-inicial', 'voll-parte-2', 'vollmecypress', 'Vollmed', 'vollmed-api-swiftui', 'Vollmed-Design-System-parte2', 'vollmedclient', 'VollmedUI', 'VollmedUI-parte-2', 'vue-test', 'WaveCast', 'Web-API-Flutter', 'webapp-asp-net-core-parte-1', 'webapp-asp-net-core-parte-2', 'webpack-alura-1', 'webservice-rest-api', 'webservices-rest-com-jaxrs-e-jersey', 'webservices-rest-com-webapi', 'websocket_app', 'websocket_app_server', 'web_com_golang', 'weka_classificacao', 'word2vec', 'word2vec_treinamento', 'wordpress-tema-do-zero', 'xamarin-crie-aplicacoes-mobile', 'xamarin-crie-aplicacoes-mobile-parte-2', 'xml-java', 'YOLO-conceito-e-deteccao', 'youtube-alura', 'zend-framework-2-parte-1', 'ZipChat-Android-Local-LLM']\n"
          ]
        }
      ],
      "source": [
        "# Getting username\n",
        "user = input(\"Enter the GitHub username (identical to GitHub): \")\n",
        "# Getting user repos\n",
        "repos_url = f\"{GITHUB_API_URL}/users/{user}/repos\"\n",
        "repos = get_paginated_results(repos_url)\n",
        "# Listing user repos\n",
        "print(\"Repos:\", [repo['name'] for repo in repos])"
      ]
    },
    {
      "cell_type": "markdown",
      "metadata": {
        "id": "eFhBwgkgILA3"
      },
      "source": [
        "## Handling Repo Contents"
      ]
    },
    {
      "cell_type": "code",
      "execution_count": 35,
      "metadata": {
        "colab": {
          "base_uri": "https://localhost:8080/"
        },
        "id": "ZH1GsTH4ILRf",
        "outputId": "0a19faed-389c-44a1-a081-fc38b85ef55b"
      },
      "outputs": [
        {
          "name": "stdout",
          "output_type": "stream",
          "text": [
            "Enter the GitHub repo name (identical to GitHub): pandasspark\n",
            "File: cursos-prouni.csv\n",
            "File: reajuste.csv\n"
          ]
        }
      ],
      "source": [
        "# Getting contents of a Repo Folder\n",
        "repo_name = input(\"Enter the GitHub repo name (identical to GitHub): \")\n",
        "contents_url = f\"{GITHUB_API_URL}/repos/{user}/{repo_name}/contents/dados\"\n",
        "contents = requests.get(contents_url, headers=HEADERS)\n",
        "# Showing files\n",
        "if contents.status_code == 200:\n",
        "  files_info = contents.json()\n",
        "  for item in files_info:\n",
        "    print(\"File:\", item['name'])\n",
        "# Handling error\n",
        "else:\n",
        "  print(\"Failed to fetch repo contents\")"
      ]
    },
    {
      "cell_type": "markdown",
      "metadata": {
        "id": "6PoaPIkXI_wB"
      },
      "source": [
        "## Handling Commits"
      ]
    },
    {
      "cell_type": "code",
      "execution_count": 36,
      "metadata": {
        "colab": {
          "base_uri": "https://localhost:8080/"
        },
        "id": "XZAf_f0IJFcH",
        "outputId": "e5d243e6-be52-4140-88d2-35c0b1ffe201"
      },
      "outputs": [
        {
          "name": "stdout",
          "output_type": "stream",
          "text": [
            "Total commits fetched: 9\n"
          ]
        }
      ],
      "source": [
        "# Getting and printing (count) commits\n",
        "commits_url = f\"{GITHUB_API_URL}/repos/{user}/{repo_name}/commits\"\n",
        "commits = get_paginated_results(commits_url)\n",
        "print(\"Total commits fetched:\", len(commits))"
      ]
    },
    {
      "cell_type": "markdown",
      "metadata": {
        "id": "mji5DxExJQT_"
      },
      "source": [
        "## Handling \"Unauthorized\" Error (401)"
      ]
    },
    {
      "cell_type": "code",
      "execution_count": 37,
      "metadata": {
        "colab": {
          "base_uri": "https://localhost:8080/"
        },
        "id": "pHWMVyN9JmDY",
        "outputId": "b32f8249-c860-4c91-803e-111df46c1b59"
      },
      "outputs": [
        {
          "name": "stdout",
          "output_type": "stream",
          "text": [
            "401 Unauthorized. Cause: Invalid token.\n"
          ]
        }
      ],
      "source": [
        "def simulate_unauthorized():\n",
        "  # Creating wrong headers (as simulation)\n",
        "  wrong_headers = {\n",
        "    \"Authorization\": \"Bearer WRONG_TOKEN\",\n",
        "    \"Accept\": \"application/vnd.github+json\"\n",
        "  }\n",
        "  # Applying wrong headers (as simulation)\n",
        "  r = requests.get(f\"{GITHUB_API_URL}/user\", headers=wrong_headers)\n",
        "  # Handling wrong headers (as simulation)\n",
        "  if r.status_code == 401:\n",
        "    print(\"401 Unauthorized. Cause: Invalid token.\")\n",
        "\n",
        "simulate_unauthorized()"
      ]
    },
    {
      "cell_type": "markdown",
      "metadata": {
        "id": "gnrZg0FzZkb2"
      },
      "source": [
        "# Extra"
      ]
    },
    {
      "cell_type": "code",
      "execution_count": null,
      "metadata": {
        "colab": {
          "base_uri": "https://localhost:8080/"
        },
        "id": "0Drpx-jRXZsV",
        "outputId": "3cf0d167-9252-4f07-e95e-5bc5c54bb454"
      },
      "outputs": [
        {
          "name": "stdout",
          "output_type": "stream",
          "text": [
            "Enter the file extension (.csv, .parquet, etc): .csv\n",
            "Loading cursos-prouni.csv...\n",
            "Loading reajuste.csv...\n"
          ]
        }
      ],
      "source": [
        "# Optional: loading the files from repo (colab only)\n",
        "dataframes = {}\n",
        "file_extension = input(\"Enter the file extension (.csv, .parquet, etc): \")\n",
        "for file in files_info:\n",
        "    if file['name'].endswith(file_extension):\n",
        "        print(f\"Loading {file['name']}...\")\n",
        "        df = pd.read_csv(file['download_url'])\n",
        "        dataframes[file['name']] = df"
      ]
    }
  ],
  "metadata": {
    "colab": {
      "provenance": []
    },
    "kernelspec": {
      "display_name": "Python 3",
      "name": "python3"
    },
    "language_info": {
      "name": "python"
    }
  },
  "nbformat": 4,
  "nbformat_minor": 0
}
